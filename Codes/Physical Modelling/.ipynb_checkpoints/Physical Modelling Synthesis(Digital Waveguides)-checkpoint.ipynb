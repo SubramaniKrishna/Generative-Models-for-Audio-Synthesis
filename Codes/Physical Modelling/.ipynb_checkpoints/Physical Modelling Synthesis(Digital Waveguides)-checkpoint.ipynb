{
 "cells": [
  {
   "cell_type": "markdown",
   "metadata": {},
   "source": [
    "## Physical Modelling Synthesis"
   ]
  },
  {
   "cell_type": "markdown",
   "metadata": {},
   "source": [
    "- Modelling the underlying physics which generates the sound\n",
    "- Usually involves a **Partial Differential Equation** like the **Wave** Equation to describe the dynamics  \n",
    "    - $K \\frac{{\\partial ^2 y}}{{\\partial x^2 }} = \\epsilon \\frac{{\\partial ^2 B}}{{\\partial t^2 }}$\n",
    "- General solution to above given as - $y(x,t) = y_{r}(x-ct) + y_{l}(x+ct)$\n",
    "- To convert to a discrete(digital) setting, you set $x -> mX$ and $t -> nT$, thus getting $y(t_n,x_m) = y_{r}(n-m) + y_{l}(n+m)$\n",
    "-Using a combination of delay lines and multiplications, you can represent the above as a digital filter system\n",
    "\n",
    "Example of an Implementation: \n",
    "![alt text][logo]\n",
    "\n",
    "[logo]: digital_example.PNG \"Logo Title Text 2\""
   ]
  },
  {
   "cell_type": "markdown",
   "metadata": {},
   "source": [
    "Advantage - \n",
    "    - Complete freedom over sound as you are describing the underlying physics  \n",
    "Disadvantage - \n",
    "    - Computationally Expensive??\n",
    "    - Not always possible to accurately model the physics(have to approximate)?"
   ]
  },
  {
   "cell_type": "markdown",
   "metadata": {},
   "source": [
    "### An Example - Karplus Strong Synthesis\n",
    "A physical model for a stringed instrument which can be easily implemented on software.  \n",
    "\n",
    "![alt text][logo]\n",
    "\n",
    "[logo]: KS_example.PNG "
   ]
  },
  {
   "cell_type": "markdown",
   "metadata": {},
   "source": [
    "By tuning the parameters appropriately, very realistic sounds can be obtained(just like plucked guitar strings)"
   ]
  }
 ],
 "metadata": {
  "kernelspec": {
   "display_name": "Python 3",
   "language": "python",
   "name": "python3"
  },
  "language_info": {
   "codemirror_mode": {
    "name": "ipython",
    "version": 3
   },
   "file_extension": ".py",
   "mimetype": "text/x-python",
   "name": "python",
   "nbconvert_exporter": "python",
   "pygments_lexer": "ipython3",
   "version": "3.6.5"
  }
 },
 "nbformat": 4,
 "nbformat_minor": 2
}
