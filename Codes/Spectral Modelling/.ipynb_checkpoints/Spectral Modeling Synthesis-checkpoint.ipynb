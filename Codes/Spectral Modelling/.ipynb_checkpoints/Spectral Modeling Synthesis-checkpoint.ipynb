{
 "cells": [
  {
   "cell_type": "markdown",
   "metadata": {},
   "source": [
    "# Spectral Modeling Synthesis"
   ]
  },
  {
   "cell_type": "markdown",
   "metadata": {},
   "source": [
    "- Motivation - To obtain **musically useful** intermediate representation for sound transformations by modelling the spectral characteristics of sound\n",
    "- Underlying Assumption \n",
    "    $$ x = x_{sine} + x_{stochastic}$$\n",
    "    Where, $x_{sine} = \\Sigma_{i} A_{i}[n]sin(\\omega_{i}[n] + \\phi_{i}[n])$ is a sinusoid captured by time varying amplitude, frequency and phase and $x_{stochastic}$ is the stochastic(non-deterministic) component"
   ]
  },
  {
   "cell_type": "markdown",
   "metadata": {},
   "source": [
    "What constitutes a **good** transformation? \n",
    "- Flexibility(ease of transformation)\n",
    "- Computationally Efficient\n",
    "- Should faithfully reproduce the original sound with as good quality as it can"
   ]
  },
  {
   "cell_type": "markdown",
   "metadata": {},
   "source": [
    "![title](fig_1.png)"
   ]
  },
  {
   "cell_type": "markdown",
   "metadata": {},
   "source": [
    "### Background on some Synthesis Techniques"
   ]
  },
  {
   "cell_type": "markdown",
   "metadata": {},
   "source": [
    "- Historical Background - \n",
    "    1. Tape Recorders\n",
    "    2. Analog tapes(Music Concrete)\n",
    "    3. Digital\n",
    "- Techniques borrowed from Speech Analysis - \n",
    "    1. Vocoder \n",
    "        - Modeling of speech by an excitation waveform(sound source) which is filtered(vocal tract)\n",
    "        - Were able to obtain interesting sound effects(pitch modification, timbre morphing)\n",
    "    2. Linear Predictive Coding \n",
    "        - Linear time varying filtering\n",
    "    3. Phase Vocoder \n",
    "        - Representing signals by the short time phase and amplitude spectrum\n",
    "        - Major motivation to move towards the Short Time Fourier Transform(STFT)\n",
    "- Synthesis Methods - \n",
    "    1. LPC based synthesis \n",
    "        - wide variety of transformations because of the decomposition\n",
    "        - works well when analyzed sounds have **clear formant structure**\n",
    "    2. Analysis based synthesis - \n",
    "        1. Heterodyne filtering \n",
    "            - breaks input waveform into pseudoperiodic segments and then estimates the pitch of each pseudoperiodic segment\n",
    "            - Similar to STFT, analyzes signal at multiple, evenly-spaced time points\n",
    "            - [The Application of Heterodyne Filter Analysis and Linear Predictive Coding\n",
    "using cSound's ADSYN, LPREAD, and LPRESON Opcodes](http://baguyos.tripod.com/DMPST.html)\n",
    "        2. Phase Vocoder\n",
    "            - Manipulate Temporal and Spectral Features independently(decouple them)\n",
    "        3. Formant wave-function synthesis\n",
    "            - Directly modelling the time domain amplitude\n",
    "            - [Time Domain FoF](https://link.springer.com/chapter/10.1007/978-94-009-9091-3_21)\n",
    "            - [Final Project: Formant-Wave-Function Synthesis](https://ccrma.stanford.edu/~mjolsen/220a/fp.html)\n",
    "        4. VOSIM \n",
    "            - model with sinc pulses of variable amplitudes, delays\n",
    "            - [paper](http://www.atiam.ircam.fr/wp-content/uploads/2011/12/AES_JAES_1978_Kaegi_VOSIM.pdf)\n",
    "        5. Wavelet transform\n",
    "            - Wavelets as analysis functions\n"
   ]
  },
  {
   "cell_type": "markdown",
   "metadata": {},
   "source": [
    "### Short Time Fourier Transform"
   ]
  },
  {
   "cell_type": "markdown",
   "metadata": {},
   "source": [
    "- Why perform analysis in the spectral domain?\n",
    "    - Our ear is like a harmonic analyzer, thus spectral analysis mimics the bahaviour of the ear\n",
    "    - Cochlea is likened to a set of narrow band pass filters, thus it performs some kind of FT\n",
    "- How our ear is different?\n",
    "    - Our ear obtains a **log scale spectrum** as opposed to the linear spectra obtained by conventional FT\n",
    "    - Time and Frequency domain masking\n",
    "    - Amplitude perception relative to frequency\n",
    "- [Hearing and Perception](http://artsites.ucsc.edu/ems/music/tech_background/te-03/teces_03.html)"
   ]
  },
  {
   "cell_type": "markdown",
   "metadata": {},
   "source": [
    "The STFT equation - \n",
    "    $X_{l}(k) := \\Sigma_{n=0}^{N-1} w(n)x(n+lH)e^{-j\\omega_{k}n}$  "
   ]
  },
  {
   "cell_type": "markdown",
   "metadata": {},
   "source": [
    "2 important (controllable) parameters - \n",
    "    1. Analysis window w(n)\n",
    "        - Determines time vs frequency resolution\n",
    "        - Want narrow main lobe, low side lobe\n",
    "        - For phase detection, constant phase spectrum obtained by using symmetric window\n",
    "    2. Hop size H\n",
    "        - Depends on sound characteristics"
   ]
  },
  {
   "cell_type": "markdown",
   "metadata": {},
   "source": [
    "Why move on?\n",
    "    - Cannot manipulate sounds easily\n",
    "Treat this as an intermediate step to obtain a more flexible representation"
   ]
  },
  {
   "cell_type": "markdown",
   "metadata": {},
   "source": [
    "### Sinusoidal Model"
   ]
  },
  {
   "cell_type": "markdown",
   "metadata": {},
   "source": [
    "Model a signal as a sum of time varying sinusoids  \n",
    "\\begin{align}\n",
    "&s(t) = \\Sigma_{r=1}^{R} A_{r}(t) cos(\\theta_{r}(t))\\\\\n",
    "&\\theta_{r}(t) = \\int_{0}^{t} \\omega_{\\tau}(\\tau)d \\tau + \\theta_{r}(0) + \\phi_{r}\n",
    "\\end{align}  \n",
    "Here, **R** is the number of sinusoidal components, **$A_{r}(t)$** is the instantaneous amplitude and **$\\theta_{r}(t)$** is the instantaneous phase"
   ]
  },
  {
   "cell_type": "markdown",
   "metadata": {},
   "source": [
    "![title](fig_2.png)"
   ]
  },
  {
   "cell_type": "markdown",
   "metadata": {},
   "source": [
    "The main steps in the parameter extraction are - "
   ]
  },
  {
   "cell_type": "markdown",
   "metadata": {},
   "source": [
    "1. Spectral Peak Detection - \n",
    "    - Peak detection\n",
    "        - Local maxima in the magnitude spectrum at each time frame\n",
    "        - Filtering the maxima with some threshold measure\n",
    "        - <Optional> For perceptual purposes, use knowledge of equal loudness contours\n",
    "    - Peak interpolation\n",
    "        - Return a better estimate for the frequency than the bin value\n",
    "        - Fit a parabola to the frequency, and use the peak of parabola as estimate \n",
    "The output of this stem is the estimated magnitude, frequency and phase of the prominent peaks in the STFT for each time frame"
   ]
  },
  {
   "cell_type": "markdown",
   "metadata": {},
   "source": [
    "![title](fig_3.png)"
   ]
  },
  {
   "cell_type": "markdown",
   "metadata": {},
   "source": [
    "2. Spectral Peak Continuation - \n",
    "    - Map the peaks at the $(n-1)^{th}$ time frame to the $(n)^{th}$ time frame\n",
    "    - Find the peak in the $(n)^{th}$ time frame which is closest in frequency in the previous frame\n",
    "    - Possible approaches - heuristic(rule based), probabilistic(hmm)"
   ]
  },
  {
   "cell_type": "markdown",
   "metadata": {},
   "source": [
    "![title](fig_4.png)"
   ]
  },
  {
   "cell_type": "markdown",
   "metadata": {},
   "source": [
    "Once the parameters are obtained, the sound is synthesized by generating the sum of sinusoids for each time frame in the following way -  \n",
    "\\begin{align}\n",
    "s^{l}(m) = \\Sigma_{r=1}^{R} \\hat A^{l}_{r}cos(m\\hat \\omega^{l}_{r} + \\hat \\phi^{l}_{r})\n",
    "\\end{align}"
   ]
  },
  {
   "cell_type": "markdown",
   "metadata": {},
   "source": [
    "Sound Effects - Can be easily achieved by playing around with the obtained parameters(scaling, interpolation, filtering etc. ). For ease of manipulation, only the magnitude spectra is used as the ear is mainly sensitive to the spectral magnitude and not the phase"
   ]
  },
  {
   "cell_type": "markdown",
   "metadata": {},
   "source": [
    "Why move on?\n",
    "- Difficult to model **noise** with sinsusoids(need a large number)\n",
    "- Because of the lack of noise modelling, the percieved quality is a bit artificial during transformations  \n",
    "    This is motivation to model the noise in the signal as the next step"
   ]
  },
  {
   "cell_type": "markdown",
   "metadata": {},
   "source": [
    "### Deterministic + Residual Model"
   ]
  },
  {
   "cell_type": "markdown",
   "metadata": {},
   "source": [
    "How is the **deterministic** component different from the previous?\n",
    "    - As opposed to selecting any peak in the spectrum(like in the previous case), the deterministic models particularly model the partials in the sound\n",
    "    - Thus, each sinusoid is assumed to model a **quasi-sinusoidal** component(piecewise linear amplitude and frequency variation) as opposed to any kind of sound  \n",
    "The **Residual** in this case is defined $ x_{original} - x_{deterministic} $. It usually models the energy that does not go into vibrations, or any component that is not inherently sinusoidal in nature."
   ]
  },
  {
   "cell_type": "markdown",
   "metadata": {},
   "source": [
    "The signal in this case is modelled as - \n",
    "\\begin{align}\n",
    "s(t) = \\Sigma_{r=1}^{R} A_{r}(t) cos(\\theta_{r}(t)) + e(t)\\\\\n",
    "\\end{align}\n",
    "Here, e(t) is the residual"
   ]
  },
  {
   "cell_type": "markdown",
   "metadata": {},
   "source": [
    "![title](fig_5.png)"
   ]
  },
  {
   "cell_type": "markdown",
   "metadata": {},
   "source": [
    "Most of the steps in extracting the parameters for the deterministic model are the same as the previous model. But, since the sinusoids are restricted to be partials only here, there is a modification in the **Spectral Peak Continuation** process. Using a heuristic(rule based) and some prior knowledge about the nature of the sound(harmonic, frequency range etc. ), an algorithm is proposed which tracks only the clear and stable partials"
   ]
  },
  {
   "cell_type": "markdown",
   "metadata": {},
   "source": [
    "The deterministic components are synthesized using the parameters obtained. The residual is obtained by subtracting this deterministic signal from the original signal.  \n",
    "An easier alternative is to subtract the frequency spectra of the two signals and ignoring the phase(perceptually unimportant)"
   ]
  },
  {
   "cell_type": "markdown",
   "metadata": {},
   "source": [
    "Why move on ? \n",
    "    - Residual is not flexible for performing transformations\n",
    "This motivates to further study the residual, and approximate it with a model that can be easily played around with."
   ]
  },
  {
   "cell_type": "markdown",
   "metadata": {},
   "source": [
    "### Deterministic + Stochastic Model"
   ]
  },
  {
   "cell_type": "markdown",
   "metadata": {},
   "source": [
    "Observations from the previous models - \n",
    "    - Not necessary to preserve phase\n",
    "    - Can model the residual as some kind of stochastic signal\n",
    "Modelling the residual as a stochastic signal helps in easily transforming the signal\n",
    "![title](fig_6.png)"
   ]
  },
  {
   "cell_type": "markdown",
   "metadata": {},
   "source": [
    "The representation obtained is similar to the previous case, just that the residual e(t) is modelled as a stochastic signal, thus allowing to write as the action of a Linear Time Variant system on white noise.  \n",
    "\\begin{align}\n",
    "\\hat e(t) = \\int_{0}^{t}h(t,t-\\tau)u(\\tau)d \\tau\n",
    "\\end{align}\n",
    "Here, u(t) is white noise and h(t,t') is the filter."
   ]
  },
  {
   "cell_type": "markdown",
   "metadata": {},
   "source": [
    "![title](fig_7.png)"
   ]
  },
  {
   "cell_type": "markdown",
   "metadata": {},
   "source": [
    "The deterministic component is calculated in the same way as the previous. The parameters are set in such a way as to extract the partials as accurately as possible(to prevent them from appearing in the residual)"
   ]
  },
  {
   "cell_type": "markdown",
   "metadata": {},
   "source": [
    "Since we assume the residual to be a stochastic signal, it is characterized by its amplitude and frequency.   \n",
    "To obtain the general shape of the residual spectrum, we approximate the envelope of the residual spectrum, which is obtained by subracting the deterministic spectra from the original spectra. This is because only the shape of the envelope contributes to the sound characteristics. The envelope is approximated by **curve fitting** or **LPC**.   \n",
    "Once the envelope is obtained, we generate the stochastic signal by using this as our amplitude and generate random numbers as phase\n",
    "\\begin{align}\n",
    "\\hat e(t) = IFT(A(k)e^{j \\Theta(k)})\n",
    "\\end{align}\n",
    "Here, A(k) is the envelope, and $\\Theta(k)$ is the phase(random)"
   ]
  },
  {
   "cell_type": "markdown",
   "metadata": {},
   "source": [
    "Transformations - Can be separately applied to the deterministic and stochastic components. \n",
    "    - Deterministic - Similar transformations like before\n",
    "    - Stochastic - Envelope shaping, filtering etc. \n",
    "![fig](fig_8.png)"
   ]
  },
  {
   "cell_type": "code",
   "execution_count": null,
   "metadata": {},
   "outputs": [],
   "source": []
  }
 ],
 "metadata": {
  "kernelspec": {
   "display_name": "Python 3",
   "language": "python",
   "name": "python3"
  },
  "language_info": {
   "codemirror_mode": {
    "name": "ipython",
    "version": 3
   },
   "file_extension": ".py",
   "mimetype": "text/x-python",
   "name": "python",
   "nbconvert_exporter": "python",
   "pygments_lexer": "ipython3",
   "version": "3.6.5"
  }
 },
 "nbformat": 4,
 "nbformat_minor": 2
}
